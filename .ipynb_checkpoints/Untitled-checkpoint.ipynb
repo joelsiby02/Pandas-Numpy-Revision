{
 "cells": [
  {
   "cell_type": "code",
   "execution_count": null,
   "id": "164da90d",
   "metadata": {},
   "outputs": [],
   "source": [
    "!pip list"
   ]
  },
  {
   "cell_type": "code",
   "execution_count": 259,
   "id": "98d45b11",
   "metadata": {},
   "outputs": [],
   "source": [
    "import pandas as pd"
   ]
  },
  {
   "cell_type": "markdown",
   "id": "aec60108",
   "metadata": {},
   "source": [
    "# 1. Create"
   ]
  },
  {
   "cell_type": "code",
   "execution_count": 190,
   "id": "d320a8a8",
   "metadata": {},
   "outputs": [],
   "source": [
    "df = pd.read_csv('salaries_dataset.csv')"
   ]
  },
  {
   "cell_type": "markdown",
   "id": "e577ee50",
   "metadata": {},
   "source": [
    "# 2. Read"
   ]
  },
  {
   "cell_type": "markdown",
   "id": "5955a03e",
   "metadata": {},
   "source": [
    "### 2.1 Show top 5 & Botoom 5"
   ]
  },
  {
   "cell_type": "code",
   "execution_count": 17,
   "id": "cb18d055",
   "metadata": {},
   "outputs": [
    {
     "data": {
      "text/html": [
       "<div>\n",
       "<style scoped>\n",
       "    .dataframe tbody tr th:only-of-type {\n",
       "        vertical-align: middle;\n",
       "    }\n",
       "\n",
       "    .dataframe tbody tr th {\n",
       "        vertical-align: top;\n",
       "    }\n",
       "\n",
       "    .dataframe thead th {\n",
       "        text-align: right;\n",
       "    }\n",
       "</style>\n",
       "<table border=\"1\" class=\"dataframe\">\n",
       "  <thead>\n",
       "    <tr style=\"text-align: right;\">\n",
       "      <th></th>\n",
       "      <th>REGISTER_ID</th>\n",
       "      <th>GENDER</th>\n",
       "      <th>AGE</th>\n",
       "      <th>INCOME</th>\n",
       "    </tr>\n",
       "  </thead>\n",
       "  <tbody>\n",
       "    <tr>\n",
       "      <th>0</th>\n",
       "      <td>AP110000</td>\n",
       "      <td>F</td>\n",
       "      <td>33</td>\n",
       "      <td>15000</td>\n",
       "    </tr>\n",
       "    <tr>\n",
       "      <th>1</th>\n",
       "      <td>AP110001</td>\n",
       "      <td>F</td>\n",
       "      <td>38</td>\n",
       "      <td>50000</td>\n",
       "    </tr>\n",
       "    <tr>\n",
       "      <th>2</th>\n",
       "      <td>AP110002</td>\n",
       "      <td>M</td>\n",
       "      <td>35</td>\n",
       "      <td>40000</td>\n",
       "    </tr>\n",
       "    <tr>\n",
       "      <th>3</th>\n",
       "      <td>AP110003</td>\n",
       "      <td>F</td>\n",
       "      <td>38</td>\n",
       "      <td>20000</td>\n",
       "    </tr>\n",
       "    <tr>\n",
       "      <th>4</th>\n",
       "      <td>AP110004</td>\n",
       "      <td>F</td>\n",
       "      <td>23</td>\n",
       "      <td>40000</td>\n",
       "    </tr>\n",
       "  </tbody>\n",
       "</table>\n",
       "</div>"
      ],
      "text/plain": [
       "  REGISTER_ID GENDER  AGE  INCOME\n",
       "0    AP110000      F   33   15000\n",
       "1    AP110001      F   38   50000\n",
       "2    AP110002      M   35   40000\n",
       "3    AP110003      F   38   20000\n",
       "4    AP110004      F   23   40000"
      ]
     },
     "execution_count": 17,
     "metadata": {},
     "output_type": "execute_result"
    }
   ],
   "source": [
    "df.head() #top 5"
   ]
  },
  {
   "cell_type": "code",
   "execution_count": 18,
   "id": "0d44906f",
   "metadata": {},
   "outputs": [
    {
     "data": {
      "text/html": [
       "<div>\n",
       "<style scoped>\n",
       "    .dataframe tbody tr th:only-of-type {\n",
       "        vertical-align: middle;\n",
       "    }\n",
       "\n",
       "    .dataframe tbody tr th {\n",
       "        vertical-align: top;\n",
       "    }\n",
       "\n",
       "    .dataframe thead th {\n",
       "        text-align: right;\n",
       "    }\n",
       "</style>\n",
       "<table border=\"1\" class=\"dataframe\">\n",
       "  <thead>\n",
       "    <tr style=\"text-align: right;\">\n",
       "      <th></th>\n",
       "      <th>REGISTER_ID</th>\n",
       "      <th>GENDER</th>\n",
       "      <th>AGE</th>\n",
       "      <th>INCOME</th>\n",
       "    </tr>\n",
       "  </thead>\n",
       "  <tbody>\n",
       "    <tr>\n",
       "      <th>9995</th>\n",
       "      <td>AP119995</td>\n",
       "      <td>M</td>\n",
       "      <td>27</td>\n",
       "      <td>15000</td>\n",
       "    </tr>\n",
       "    <tr>\n",
       "      <th>9996</th>\n",
       "      <td>AP119996</td>\n",
       "      <td>F</td>\n",
       "      <td>24</td>\n",
       "      <td>12000</td>\n",
       "    </tr>\n",
       "    <tr>\n",
       "      <th>9997</th>\n",
       "      <td>AP119997</td>\n",
       "      <td>M</td>\n",
       "      <td>25</td>\n",
       "      <td>35000</td>\n",
       "    </tr>\n",
       "    <tr>\n",
       "      <th>9998</th>\n",
       "      <td>AP119998</td>\n",
       "      <td>F</td>\n",
       "      <td>33</td>\n",
       "      <td>20000</td>\n",
       "    </tr>\n",
       "    <tr>\n",
       "      <th>9999</th>\n",
       "      <td>AP119999</td>\n",
       "      <td>M</td>\n",
       "      <td>27</td>\n",
       "      <td>30000</td>\n",
       "    </tr>\n",
       "  </tbody>\n",
       "</table>\n",
       "</div>"
      ],
      "text/plain": [
       "     REGISTER_ID GENDER  AGE  INCOME\n",
       "9995    AP119995      M   27   15000\n",
       "9996    AP119996      F   24   12000\n",
       "9997    AP119997      M   25   35000\n",
       "9998    AP119998      F   33   20000\n",
       "9999    AP119999      M   27   30000"
      ]
     },
     "execution_count": 18,
     "metadata": {},
     "output_type": "execute_result"
    }
   ],
   "source": [
    "df.tail() # bottom 5"
   ]
  },
  {
   "cell_type": "markdown",
   "id": "cf3bd066",
   "metadata": {},
   "source": [
    "### 2.2 Show Column's & Datatypes"
   ]
  },
  {
   "cell_type": "code",
   "execution_count": 23,
   "id": "807fc391",
   "metadata": {},
   "outputs": [
    {
     "name": "stdout",
     "output_type": "stream",
     "text": [
      "<class 'pandas.core.frame.DataFrame'>\n",
      "RangeIndex: 10000 entries, 0 to 9999\n",
      "Data columns (total 4 columns):\n",
      " #   Column       Non-Null Count  Dtype \n",
      "---  ------       --------------  ----- \n",
      " 0   REGISTER_ID  10000 non-null  object\n",
      " 1   GENDER       10000 non-null  object\n",
      " 2   AGE          10000 non-null  int64 \n",
      " 3   INCOME       10000 non-null  int64 \n",
      "dtypes: int64(2), object(2)\n",
      "memory usage: 312.6+ KB\n"
     ]
    }
   ],
   "source": [
    "df.info() # Shows info about your df"
   ]
  },
  {
   "cell_type": "markdown",
   "id": "4d7d40dc",
   "metadata": {},
   "source": [
    "### 2.3 Summary Statastics"
   ]
  },
  {
   "cell_type": "code",
   "execution_count": 26,
   "id": "2d8c7fda",
   "metadata": {},
   "outputs": [
    {
     "data": {
      "text/html": [
       "<div>\n",
       "<style scoped>\n",
       "    .dataframe tbody tr th:only-of-type {\n",
       "        vertical-align: middle;\n",
       "    }\n",
       "\n",
       "    .dataframe tbody tr th {\n",
       "        vertical-align: top;\n",
       "    }\n",
       "\n",
       "    .dataframe thead th {\n",
       "        text-align: right;\n",
       "    }\n",
       "</style>\n",
       "<table border=\"1\" class=\"dataframe\">\n",
       "  <thead>\n",
       "    <tr style=\"text-align: right;\">\n",
       "      <th></th>\n",
       "      <th>AGE</th>\n",
       "      <th>INCOME</th>\n",
       "    </tr>\n",
       "  </thead>\n",
       "  <tbody>\n",
       "    <tr>\n",
       "      <th>count</th>\n",
       "      <td>10000.000000</td>\n",
       "      <td>10000.000000</td>\n",
       "    </tr>\n",
       "    <tr>\n",
       "      <th>mean</th>\n",
       "      <td>35.496700</td>\n",
       "      <td>26357.400000</td>\n",
       "    </tr>\n",
       "    <tr>\n",
       "      <th>std</th>\n",
       "      <td>8.594415</td>\n",
       "      <td>12801.978531</td>\n",
       "    </tr>\n",
       "    <tr>\n",
       "      <th>min</th>\n",
       "      <td>21.000000</td>\n",
       "      <td>10000.000000</td>\n",
       "    </tr>\n",
       "    <tr>\n",
       "      <th>25%</th>\n",
       "      <td>28.000000</td>\n",
       "      <td>15000.000000</td>\n",
       "    </tr>\n",
       "    <tr>\n",
       "      <th>50%</th>\n",
       "      <td>35.000000</td>\n",
       "      <td>25000.000000</td>\n",
       "    </tr>\n",
       "    <tr>\n",
       "      <th>75%</th>\n",
       "      <td>43.000000</td>\n",
       "      <td>35000.000000</td>\n",
       "    </tr>\n",
       "    <tr>\n",
       "      <th>max</th>\n",
       "      <td>50.000000</td>\n",
       "      <td>50000.000000</td>\n",
       "    </tr>\n",
       "  </tbody>\n",
       "</table>\n",
       "</div>"
      ],
      "text/plain": [
       "                AGE        INCOME\n",
       "count  10000.000000  10000.000000\n",
       "mean      35.496700  26357.400000\n",
       "std        8.594415  12801.978531\n",
       "min       21.000000  10000.000000\n",
       "25%       28.000000  15000.000000\n",
       "50%       35.000000  25000.000000\n",
       "75%       43.000000  35000.000000\n",
       "max       50.000000  50000.000000"
      ]
     },
     "execution_count": 26,
     "metadata": {},
     "output_type": "execute_result"
    }
   ],
   "source": [
    "df.describe() # Suammary Statastics of (int & float)"
   ]
  },
  {
   "cell_type": "code",
   "execution_count": 25,
   "id": "4ac40b23",
   "metadata": {},
   "outputs": [
    {
     "data": {
      "text/html": [
       "<div>\n",
       "<style scoped>\n",
       "    .dataframe tbody tr th:only-of-type {\n",
       "        vertical-align: middle;\n",
       "    }\n",
       "\n",
       "    .dataframe tbody tr th {\n",
       "        vertical-align: top;\n",
       "    }\n",
       "\n",
       "    .dataframe thead th {\n",
       "        text-align: right;\n",
       "    }\n",
       "</style>\n",
       "<table border=\"1\" class=\"dataframe\">\n",
       "  <thead>\n",
       "    <tr style=\"text-align: right;\">\n",
       "      <th></th>\n",
       "      <th>REGISTER_ID</th>\n",
       "      <th>GENDER</th>\n",
       "    </tr>\n",
       "  </thead>\n",
       "  <tbody>\n",
       "    <tr>\n",
       "      <th>count</th>\n",
       "      <td>10000</td>\n",
       "      <td>10000</td>\n",
       "    </tr>\n",
       "    <tr>\n",
       "      <th>unique</th>\n",
       "      <td>10000</td>\n",
       "      <td>2</td>\n",
       "    </tr>\n",
       "    <tr>\n",
       "      <th>top</th>\n",
       "      <td>AP110000</td>\n",
       "      <td>M</td>\n",
       "    </tr>\n",
       "    <tr>\n",
       "      <th>freq</th>\n",
       "      <td>1</td>\n",
       "      <td>5047</td>\n",
       "    </tr>\n",
       "  </tbody>\n",
       "</table>\n",
       "</div>"
      ],
      "text/plain": [
       "       REGISTER_ID GENDER\n",
       "count        10000  10000\n",
       "unique       10000      2\n",
       "top       AP110000      M\n",
       "freq             1   5047"
      ]
     },
     "execution_count": 25,
     "metadata": {},
     "output_type": "execute_result"
    }
   ],
   "source": [
    "df.describe(include = 'object') # Summary Statastics of (object) type"
   ]
  },
  {
   "cell_type": "markdown",
   "id": "e7efb87b",
   "metadata": {},
   "source": [
    "### 2.4 Filter on Columns"
   ]
  },
  {
   "cell_type": "code",
   "execution_count": 40,
   "id": "48e5e9a3",
   "metadata": {},
   "outputs": [
    {
     "data": {
      "text/plain": [
       "Index(['REGISTER_ID', 'GENDER', 'AGE', 'INCOME'], dtype='object')"
      ]
     },
     "execution_count": 40,
     "metadata": {},
     "output_type": "execute_result"
    }
   ],
   "source": [
    "df.columns # display col"
   ]
  },
  {
   "cell_type": "code",
   "execution_count": 54,
   "id": "784e4ccf",
   "metadata": {},
   "outputs": [
    {
     "data": {
      "text/plain": [
       "0    AP110000\n",
       "1    AP110001\n",
       "2    AP110002\n",
       "3    AP110003\n",
       "4    AP110004\n",
       "Name: REGISTER_ID, dtype: object"
      ]
     },
     "execution_count": 54,
     "metadata": {},
     "output_type": "execute_result"
    }
   ],
   "source": [
    "df['REGISTER_ID'].head() # display single col"
   ]
  },
  {
   "cell_type": "code",
   "execution_count": 66,
   "id": "1c7efdd3",
   "metadata": {},
   "outputs": [
    {
     "data": {
      "text/html": [
       "<div>\n",
       "<style scoped>\n",
       "    .dataframe tbody tr th:only-of-type {\n",
       "        vertical-align: middle;\n",
       "    }\n",
       "\n",
       "    .dataframe tbody tr th {\n",
       "        vertical-align: top;\n",
       "    }\n",
       "\n",
       "    .dataframe thead th {\n",
       "        text-align: right;\n",
       "    }\n",
       "</style>\n",
       "<table border=\"1\" class=\"dataframe\">\n",
       "  <thead>\n",
       "    <tr style=\"text-align: right;\">\n",
       "      <th></th>\n",
       "      <th>REGISTER_ID</th>\n",
       "      <th>GENDER</th>\n",
       "    </tr>\n",
       "  </thead>\n",
       "  <tbody>\n",
       "    <tr>\n",
       "      <th>0</th>\n",
       "      <td>AP110000</td>\n",
       "      <td>F</td>\n",
       "    </tr>\n",
       "    <tr>\n",
       "      <th>1</th>\n",
       "      <td>AP110001</td>\n",
       "      <td>F</td>\n",
       "    </tr>\n",
       "    <tr>\n",
       "      <th>2</th>\n",
       "      <td>AP110002</td>\n",
       "      <td>M</td>\n",
       "    </tr>\n",
       "    <tr>\n",
       "      <th>3</th>\n",
       "      <td>AP110003</td>\n",
       "      <td>F</td>\n",
       "    </tr>\n",
       "    <tr>\n",
       "      <th>4</th>\n",
       "      <td>AP110004</td>\n",
       "      <td>F</td>\n",
       "    </tr>\n",
       "  </tbody>\n",
       "</table>\n",
       "</div>"
      ],
      "text/plain": [
       "  REGISTER_ID GENDER\n",
       "0    AP110000      F\n",
       "1    AP110001      F\n",
       "2    AP110002      M\n",
       "3    AP110003      F\n",
       "4    AP110004      F"
      ]
     },
     "execution_count": 66,
     "metadata": {},
     "output_type": "execute_result"
    }
   ],
   "source": [
    "df[['REGISTER_ID', 'GENDER']].head() #display multiple col"
   ]
  },
  {
   "cell_type": "code",
   "execution_count": 63,
   "id": "4bee63c8",
   "metadata": {},
   "outputs": [
    {
     "data": {
      "text/plain": [
       "array(['F', 'M'], dtype=object)"
      ]
     },
     "execution_count": 63,
     "metadata": {},
     "output_type": "execute_result"
    }
   ],
   "source": [
    "df['GENDER'].unique() # Unqiue values of Gender col"
   ]
  },
  {
   "cell_type": "code",
   "execution_count": 65,
   "id": "5398d407",
   "metadata": {},
   "outputs": [
    {
     "data": {
      "text/plain": [
       "10000"
      ]
     },
     "execution_count": 65,
     "metadata": {},
     "output_type": "execute_result"
    }
   ],
   "source": [
    "df['REGISTER_ID'].nunique() # sum of the unqiue values in ID col"
   ]
  },
  {
   "cell_type": "markdown",
   "id": "013c4972",
   "metadata": {},
   "source": [
    "### 2.5 Filter on Rows"
   ]
  },
  {
   "cell_type": "code",
   "execution_count": 72,
   "id": "78aef0e0",
   "metadata": {},
   "outputs": [
    {
     "data": {
      "text/html": [
       "<div>\n",
       "<style scoped>\n",
       "    .dataframe tbody tr th:only-of-type {\n",
       "        vertical-align: middle;\n",
       "    }\n",
       "\n",
       "    .dataframe tbody tr th {\n",
       "        vertical-align: top;\n",
       "    }\n",
       "\n",
       "    .dataframe thead th {\n",
       "        text-align: right;\n",
       "    }\n",
       "</style>\n",
       "<table border=\"1\" class=\"dataframe\">\n",
       "  <thead>\n",
       "    <tr style=\"text-align: right;\">\n",
       "      <th></th>\n",
       "      <th>REGISTER_ID</th>\n",
       "      <th>GENDER</th>\n",
       "      <th>AGE</th>\n",
       "      <th>INCOME</th>\n",
       "    </tr>\n",
       "  </thead>\n",
       "  <tbody>\n",
       "    <tr>\n",
       "      <th>0</th>\n",
       "      <td>AP110000</td>\n",
       "      <td>F</td>\n",
       "      <td>33</td>\n",
       "      <td>15000</td>\n",
       "    </tr>\n",
       "    <tr>\n",
       "      <th>1</th>\n",
       "      <td>AP110001</td>\n",
       "      <td>F</td>\n",
       "      <td>38</td>\n",
       "      <td>50000</td>\n",
       "    </tr>\n",
       "    <tr>\n",
       "      <th>2</th>\n",
       "      <td>AP110002</td>\n",
       "      <td>M</td>\n",
       "      <td>35</td>\n",
       "      <td>40000</td>\n",
       "    </tr>\n",
       "    <tr>\n",
       "      <th>3</th>\n",
       "      <td>AP110003</td>\n",
       "      <td>F</td>\n",
       "      <td>38</td>\n",
       "      <td>20000</td>\n",
       "    </tr>\n",
       "    <tr>\n",
       "      <th>4</th>\n",
       "      <td>AP110004</td>\n",
       "      <td>F</td>\n",
       "      <td>23</td>\n",
       "      <td>40000</td>\n",
       "    </tr>\n",
       "  </tbody>\n",
       "</table>\n",
       "</div>"
      ],
      "text/plain": [
       "  REGISTER_ID GENDER  AGE  INCOME\n",
       "0    AP110000      F   33   15000\n",
       "1    AP110001      F   38   50000\n",
       "2    AP110002      M   35   40000\n",
       "3    AP110003      F   38   20000\n",
       "4    AP110004      F   23   40000"
      ]
     },
     "execution_count": 72,
     "metadata": {},
     "output_type": "execute_result"
    }
   ],
   "source": [
    "df.head() # Top 5"
   ]
  },
  {
   "cell_type": "code",
   "execution_count": 71,
   "id": "148a52b5",
   "metadata": {},
   "outputs": [
    {
     "data": {
      "text/html": [
       "<div>\n",
       "<style scoped>\n",
       "    .dataframe tbody tr th:only-of-type {\n",
       "        vertical-align: middle;\n",
       "    }\n",
       "\n",
       "    .dataframe tbody tr th {\n",
       "        vertical-align: top;\n",
       "    }\n",
       "\n",
       "    .dataframe thead th {\n",
       "        text-align: right;\n",
       "    }\n",
       "</style>\n",
       "<table border=\"1\" class=\"dataframe\">\n",
       "  <thead>\n",
       "    <tr style=\"text-align: right;\">\n",
       "      <th></th>\n",
       "      <th>REGISTER_ID</th>\n",
       "      <th>GENDER</th>\n",
       "      <th>AGE</th>\n",
       "      <th>INCOME</th>\n",
       "    </tr>\n",
       "  </thead>\n",
       "  <tbody>\n",
       "    <tr>\n",
       "      <th>0</th>\n",
       "      <td>AP110000</td>\n",
       "      <td>F</td>\n",
       "      <td>33</td>\n",
       "      <td>15000</td>\n",
       "    </tr>\n",
       "    <tr>\n",
       "      <th>1</th>\n",
       "      <td>AP110001</td>\n",
       "      <td>F</td>\n",
       "      <td>38</td>\n",
       "      <td>50000</td>\n",
       "    </tr>\n",
       "    <tr>\n",
       "      <th>3</th>\n",
       "      <td>AP110003</td>\n",
       "      <td>F</td>\n",
       "      <td>38</td>\n",
       "      <td>20000</td>\n",
       "    </tr>\n",
       "    <tr>\n",
       "      <th>4</th>\n",
       "      <td>AP110004</td>\n",
       "      <td>F</td>\n",
       "      <td>23</td>\n",
       "      <td>40000</td>\n",
       "    </tr>\n",
       "    <tr>\n",
       "      <th>5</th>\n",
       "      <td>AP110005</td>\n",
       "      <td>F</td>\n",
       "      <td>38</td>\n",
       "      <td>40000</td>\n",
       "    </tr>\n",
       "  </tbody>\n",
       "</table>\n",
       "</div>"
      ],
      "text/plain": [
       "  REGISTER_ID GENDER  AGE  INCOME\n",
       "0    AP110000      F   33   15000\n",
       "1    AP110001      F   38   50000\n",
       "3    AP110003      F   38   20000\n",
       "4    AP110004      F   23   40000\n",
       "5    AP110005      F   38   40000"
      ]
     },
     "execution_count": 71,
     "metadata": {},
     "output_type": "execute_result"
    }
   ],
   "source": [
    "# Display only the Rows with Gender == 'F'\n",
    "df[df['GENDER'] == 'F'].head()"
   ]
  },
  {
   "cell_type": "code",
   "execution_count": 127,
   "id": "230cea63",
   "metadata": {},
   "outputs": [
    {
     "data": {
      "text/html": [
       "<div>\n",
       "<style scoped>\n",
       "    .dataframe tbody tr th:only-of-type {\n",
       "        vertical-align: middle;\n",
       "    }\n",
       "\n",
       "    .dataframe tbody tr th {\n",
       "        vertical-align: top;\n",
       "    }\n",
       "\n",
       "    .dataframe thead th {\n",
       "        text-align: right;\n",
       "    }\n",
       "</style>\n",
       "<table border=\"1\" class=\"dataframe\">\n",
       "  <thead>\n",
       "    <tr style=\"text-align: right;\">\n",
       "      <th></th>\n",
       "      <th>AGE</th>\n",
       "      <th>INCOME</th>\n",
       "    </tr>\n",
       "  </thead>\n",
       "  <tbody>\n",
       "    <tr>\n",
       "      <th>816</th>\n",
       "      <td>33</td>\n",
       "      <td>10000</td>\n",
       "    </tr>\n",
       "    <tr>\n",
       "      <th>1321</th>\n",
       "      <td>33</td>\n",
       "      <td>10000</td>\n",
       "    </tr>\n",
       "    <tr>\n",
       "      <th>1455</th>\n",
       "      <td>33</td>\n",
       "      <td>10000</td>\n",
       "    </tr>\n",
       "    <tr>\n",
       "      <th>1802</th>\n",
       "      <td>33</td>\n",
       "      <td>10000</td>\n",
       "    </tr>\n",
       "    <tr>\n",
       "      <th>2814</th>\n",
       "      <td>33</td>\n",
       "      <td>10000</td>\n",
       "    </tr>\n",
       "  </tbody>\n",
       "</table>\n",
       "</div>"
      ],
      "text/plain": [
       "      AGE  INCOME\n",
       "816    33   10000\n",
       "1321   33   10000\n",
       "1455   33   10000\n",
       "1802   33   10000\n",
       "2814   33   10000"
      ]
     },
     "execution_count": 127,
     "metadata": {},
     "output_type": "execute_result"
    }
   ],
   "source": [
    "df[(df['AGE'] == 33) & (df['INCOME'] == 10000)][['AGE', 'INCOME']].head()  # Female of Age 33 with 10k INCOME"
   ]
  },
  {
   "cell_type": "code",
   "execution_count": 138,
   "id": "672d8af6",
   "metadata": {},
   "outputs": [
    {
     "data": {
      "text/html": [
       "<div>\n",
       "<style scoped>\n",
       "    .dataframe tbody tr th:only-of-type {\n",
       "        vertical-align: middle;\n",
       "    }\n",
       "\n",
       "    .dataframe tbody tr th {\n",
       "        vertical-align: top;\n",
       "    }\n",
       "\n",
       "    .dataframe thead th {\n",
       "        text-align: right;\n",
       "    }\n",
       "</style>\n",
       "<table border=\"1\" class=\"dataframe\">\n",
       "  <thead>\n",
       "    <tr style=\"text-align: right;\">\n",
       "      <th></th>\n",
       "      <th>AGE</th>\n",
       "      <th>INCOME</th>\n",
       "    </tr>\n",
       "  </thead>\n",
       "  <tbody>\n",
       "    <tr>\n",
       "      <th>count</th>\n",
       "      <td>607.000000</td>\n",
       "      <td>607.0</td>\n",
       "    </tr>\n",
       "    <tr>\n",
       "      <th>mean</th>\n",
       "      <td>42.293245</td>\n",
       "      <td>50000.0</td>\n",
       "    </tr>\n",
       "    <tr>\n",
       "      <th>std</th>\n",
       "      <td>4.661443</td>\n",
       "      <td>0.0</td>\n",
       "    </tr>\n",
       "    <tr>\n",
       "      <th>min</th>\n",
       "      <td>35.000000</td>\n",
       "      <td>50000.0</td>\n",
       "    </tr>\n",
       "    <tr>\n",
       "      <th>25%</th>\n",
       "      <td>38.000000</td>\n",
       "      <td>50000.0</td>\n",
       "    </tr>\n",
       "    <tr>\n",
       "      <th>50%</th>\n",
       "      <td>42.000000</td>\n",
       "      <td>50000.0</td>\n",
       "    </tr>\n",
       "    <tr>\n",
       "      <th>75%</th>\n",
       "      <td>46.000000</td>\n",
       "      <td>50000.0</td>\n",
       "    </tr>\n",
       "    <tr>\n",
       "      <th>max</th>\n",
       "      <td>50.000000</td>\n",
       "      <td>50000.0</td>\n",
       "    </tr>\n",
       "  </tbody>\n",
       "</table>\n",
       "</div>"
      ],
      "text/plain": [
       "              AGE   INCOME\n",
       "count  607.000000    607.0\n",
       "mean    42.293245  50000.0\n",
       "std      4.661443      0.0\n",
       "min     35.000000  50000.0\n",
       "25%     38.000000  50000.0\n",
       "50%     42.000000  50000.0\n",
       "75%     46.000000  50000.0\n",
       "max     50.000000  50000.0"
      ]
     },
     "execution_count": 138,
     "metadata": {},
     "output_type": "execute_result"
    }
   ],
   "source": [
    "df[(df['AGE'] >= 35) & (df['INCOME'] >= 50000)][['AGE', 'INCOME']].describe() # Poeople with age >= 35 & income >= 50,000"
   ]
  },
  {
   "cell_type": "markdown",
   "id": "3fcfdea6",
   "metadata": {},
   "source": [
    "### 2.6 Indexing with iloc \n",
    " - Integer Based Filter"
   ]
  },
  {
   "cell_type": "code",
   "execution_count": 155,
   "id": "45b378de",
   "metadata": {},
   "outputs": [
    {
     "data": {
      "text/plain": [
       "REGISTER_ID    AP110020\n",
       "GENDER                F\n",
       "AGE                  25\n",
       "INCOME            20000\n",
       "Name: 20, dtype: object"
      ]
     },
     "execution_count": 155,
     "metadata": {},
     "output_type": "execute_result"
    }
   ],
   "source": [
    "df.iloc[20] # 20 th row on dataFrame"
   ]
  },
  {
   "cell_type": "code",
   "execution_count": 159,
   "id": "2902d119",
   "metadata": {},
   "outputs": [
    {
     "data": {
      "text/plain": [
       "'AP110020'"
      ]
     },
     "execution_count": 159,
     "metadata": {},
     "output_type": "execute_result"
    }
   ],
   "source": [
    "df.iloc[20, 0] # 20th row 0th col value in our DataFrame"
   ]
  },
  {
   "cell_type": "code",
   "execution_count": 161,
   "id": "95454b46",
   "metadata": {},
   "outputs": [
    {
     "data": {
      "text/plain": [
       "20000"
      ]
     },
     "execution_count": 161,
     "metadata": {},
     "output_type": "execute_result"
    }
   ],
   "source": [
    "df.iloc[20, -1] # 20th row bottom first col value"
   ]
  },
  {
   "cell_type": "markdown",
   "id": "7f524d7f",
   "metadata": {},
   "source": [
    "### 2.7 Indexing with loc\n",
    " - indexing with keywords"
   ]
  },
  {
   "cell_type": "code",
   "execution_count": 162,
   "id": "fad7d5e2",
   "metadata": {},
   "outputs": [
    {
     "data": {
      "text/html": [
       "<div>\n",
       "<style scoped>\n",
       "    .dataframe tbody tr th:only-of-type {\n",
       "        vertical-align: middle;\n",
       "    }\n",
       "\n",
       "    .dataframe tbody tr th {\n",
       "        vertical-align: top;\n",
       "    }\n",
       "\n",
       "    .dataframe thead th {\n",
       "        text-align: right;\n",
       "    }\n",
       "</style>\n",
       "<table border=\"1\" class=\"dataframe\">\n",
       "  <thead>\n",
       "    <tr style=\"text-align: right;\">\n",
       "      <th></th>\n",
       "      <th>REGISTER_ID</th>\n",
       "      <th>GENDER</th>\n",
       "      <th>AGE</th>\n",
       "      <th>INCOME</th>\n",
       "    </tr>\n",
       "  </thead>\n",
       "  <tbody>\n",
       "    <tr>\n",
       "      <th>0</th>\n",
       "      <td>AP110000</td>\n",
       "      <td>F</td>\n",
       "      <td>33</td>\n",
       "      <td>15000</td>\n",
       "    </tr>\n",
       "  </tbody>\n",
       "</table>\n",
       "</div>"
      ],
      "text/plain": [
       "  REGISTER_ID GENDER  AGE  INCOME\n",
       "0    AP110000      F   33   15000"
      ]
     },
     "execution_count": 162,
     "metadata": {},
     "output_type": "execute_result"
    }
   ],
   "source": [
    "df.head(1)"
   ]
  },
  {
   "cell_type": "code",
   "execution_count": 169,
   "id": "425b9506",
   "metadata": {},
   "outputs": [],
   "source": [
    "df1 = df.copy() # Copying df to (df1)\n",
    "df1.set_index('GENDER', inplace = True) # setting 'Gender' col as index to use loc"
   ]
  },
  {
   "cell_type": "code",
   "execution_count": 175,
   "id": "701fc297",
   "metadata": {},
   "outputs": [
    {
     "data": {
      "text/html": [
       "<div>\n",
       "<style scoped>\n",
       "    .dataframe tbody tr th:only-of-type {\n",
       "        vertical-align: middle;\n",
       "    }\n",
       "\n",
       "    .dataframe tbody tr th {\n",
       "        vertical-align: top;\n",
       "    }\n",
       "\n",
       "    .dataframe thead th {\n",
       "        text-align: right;\n",
       "    }\n",
       "</style>\n",
       "<table border=\"1\" class=\"dataframe\">\n",
       "  <thead>\n",
       "    <tr style=\"text-align: right;\">\n",
       "      <th></th>\n",
       "      <th>REGISTER_ID</th>\n",
       "      <th>AGE</th>\n",
       "      <th>INCOME</th>\n",
       "    </tr>\n",
       "    <tr>\n",
       "      <th>GENDER</th>\n",
       "      <th></th>\n",
       "      <th></th>\n",
       "      <th></th>\n",
       "    </tr>\n",
       "  </thead>\n",
       "  <tbody>\n",
       "    <tr>\n",
       "      <th>F</th>\n",
       "      <td>AP110000</td>\n",
       "      <td>33</td>\n",
       "      <td>15000</td>\n",
       "    </tr>\n",
       "    <tr>\n",
       "      <th>F</th>\n",
       "      <td>AP110001</td>\n",
       "      <td>38</td>\n",
       "      <td>50000</td>\n",
       "    </tr>\n",
       "    <tr>\n",
       "      <th>M</th>\n",
       "      <td>AP110002</td>\n",
       "      <td>35</td>\n",
       "      <td>40000</td>\n",
       "    </tr>\n",
       "    <tr>\n",
       "      <th>F</th>\n",
       "      <td>AP110003</td>\n",
       "      <td>38</td>\n",
       "      <td>20000</td>\n",
       "    </tr>\n",
       "    <tr>\n",
       "      <th>F</th>\n",
       "      <td>AP110004</td>\n",
       "      <td>23</td>\n",
       "      <td>40000</td>\n",
       "    </tr>\n",
       "  </tbody>\n",
       "</table>\n",
       "</div>"
      ],
      "text/plain": [
       "       REGISTER_ID  AGE  INCOME\n",
       "GENDER                         \n",
       "F         AP110000   33   15000\n",
       "F         AP110001   38   50000\n",
       "M         AP110002   35   40000\n",
       "F         AP110003   38   20000\n",
       "F         AP110004   23   40000"
      ]
     },
     "execution_count": 175,
     "metadata": {},
     "output_type": "execute_result"
    }
   ],
   "source": [
    "df1.head() # top 5"
   ]
  },
  {
   "cell_type": "code",
   "execution_count": 184,
   "id": "fea9a2dc",
   "metadata": {},
   "outputs": [
    {
     "data": {
      "text/html": [
       "<div>\n",
       "<style scoped>\n",
       "    .dataframe tbody tr th:only-of-type {\n",
       "        vertical-align: middle;\n",
       "    }\n",
       "\n",
       "    .dataframe tbody tr th {\n",
       "        vertical-align: top;\n",
       "    }\n",
       "\n",
       "    .dataframe thead th {\n",
       "        text-align: right;\n",
       "    }\n",
       "</style>\n",
       "<table border=\"1\" class=\"dataframe\">\n",
       "  <thead>\n",
       "    <tr style=\"text-align: right;\">\n",
       "      <th></th>\n",
       "      <th>REGISTER_ID</th>\n",
       "      <th>AGE</th>\n",
       "      <th>INCOME</th>\n",
       "    </tr>\n",
       "    <tr>\n",
       "      <th>GENDER</th>\n",
       "      <th></th>\n",
       "      <th></th>\n",
       "      <th></th>\n",
       "    </tr>\n",
       "  </thead>\n",
       "  <tbody>\n",
       "    <tr>\n",
       "      <th>F</th>\n",
       "      <td>AP110000</td>\n",
       "      <td>33</td>\n",
       "      <td>15000</td>\n",
       "    </tr>\n",
       "    <tr>\n",
       "      <th>F</th>\n",
       "      <td>AP110001</td>\n",
       "      <td>38</td>\n",
       "      <td>50000</td>\n",
       "    </tr>\n",
       "    <tr>\n",
       "      <th>F</th>\n",
       "      <td>AP110003</td>\n",
       "      <td>38</td>\n",
       "      <td>20000</td>\n",
       "    </tr>\n",
       "    <tr>\n",
       "      <th>F</th>\n",
       "      <td>AP110004</td>\n",
       "      <td>23</td>\n",
       "      <td>40000</td>\n",
       "    </tr>\n",
       "    <tr>\n",
       "      <th>F</th>\n",
       "      <td>AP110005</td>\n",
       "      <td>38</td>\n",
       "      <td>40000</td>\n",
       "    </tr>\n",
       "    <tr>\n",
       "      <th>...</th>\n",
       "      <td>...</td>\n",
       "      <td>...</td>\n",
       "      <td>...</td>\n",
       "    </tr>\n",
       "    <tr>\n",
       "      <th>F</th>\n",
       "      <td>AP119989</td>\n",
       "      <td>43</td>\n",
       "      <td>15000</td>\n",
       "    </tr>\n",
       "    <tr>\n",
       "      <th>F</th>\n",
       "      <td>AP119990</td>\n",
       "      <td>33</td>\n",
       "      <td>10000</td>\n",
       "    </tr>\n",
       "    <tr>\n",
       "      <th>F</th>\n",
       "      <td>AP119992</td>\n",
       "      <td>33</td>\n",
       "      <td>40000</td>\n",
       "    </tr>\n",
       "    <tr>\n",
       "      <th>F</th>\n",
       "      <td>AP119996</td>\n",
       "      <td>24</td>\n",
       "      <td>12000</td>\n",
       "    </tr>\n",
       "    <tr>\n",
       "      <th>F</th>\n",
       "      <td>AP119998</td>\n",
       "      <td>33</td>\n",
       "      <td>20000</td>\n",
       "    </tr>\n",
       "  </tbody>\n",
       "</table>\n",
       "<p>4953 rows × 3 columns</p>\n",
       "</div>"
      ],
      "text/plain": [
       "       REGISTER_ID  AGE  INCOME\n",
       "GENDER                         \n",
       "F         AP110000   33   15000\n",
       "F         AP110001   38   50000\n",
       "F         AP110003   38   20000\n",
       "F         AP110004   23   40000\n",
       "F         AP110005   38   40000\n",
       "...            ...  ...     ...\n",
       "F         AP119989   43   15000\n",
       "F         AP119990   33   10000\n",
       "F         AP119992   33   40000\n",
       "F         AP119996   24   12000\n",
       "F         AP119998   33   20000\n",
       "\n",
       "[4953 rows x 3 columns]"
      ]
     },
     "execution_count": 184,
     "metadata": {},
     "output_type": "execute_result"
    }
   ],
   "source": [
    "df1.loc['F'] # Female Rows in df1"
   ]
  },
  {
   "cell_type": "code",
   "execution_count": 183,
   "id": "4f9b3f39",
   "metadata": {},
   "outputs": [
    {
     "data": {
      "text/html": [
       "<div>\n",
       "<style scoped>\n",
       "    .dataframe tbody tr th:only-of-type {\n",
       "        vertical-align: middle;\n",
       "    }\n",
       "\n",
       "    .dataframe tbody tr th {\n",
       "        vertical-align: top;\n",
       "    }\n",
       "\n",
       "    .dataframe thead th {\n",
       "        text-align: right;\n",
       "    }\n",
       "</style>\n",
       "<table border=\"1\" class=\"dataframe\">\n",
       "  <thead>\n",
       "    <tr style=\"text-align: right;\">\n",
       "      <th></th>\n",
       "      <th>REGISTER_ID</th>\n",
       "      <th>AGE</th>\n",
       "      <th>INCOME</th>\n",
       "    </tr>\n",
       "    <tr>\n",
       "      <th>GENDER</th>\n",
       "      <th></th>\n",
       "      <th></th>\n",
       "      <th></th>\n",
       "    </tr>\n",
       "  </thead>\n",
       "  <tbody>\n",
       "    <tr>\n",
       "      <th>M</th>\n",
       "      <td>AP110002</td>\n",
       "      <td>35</td>\n",
       "      <td>40000</td>\n",
       "    </tr>\n",
       "    <tr>\n",
       "      <th>M</th>\n",
       "      <td>AP110008</td>\n",
       "      <td>42</td>\n",
       "      <td>20000</td>\n",
       "    </tr>\n",
       "    <tr>\n",
       "      <th>M</th>\n",
       "      <td>AP110009</td>\n",
       "      <td>39</td>\n",
       "      <td>10000</td>\n",
       "    </tr>\n",
       "    <tr>\n",
       "      <th>M</th>\n",
       "      <td>AP110010</td>\n",
       "      <td>41</td>\n",
       "      <td>25000</td>\n",
       "    </tr>\n",
       "    <tr>\n",
       "      <th>M</th>\n",
       "      <td>AP110014</td>\n",
       "      <td>44</td>\n",
       "      <td>25000</td>\n",
       "    </tr>\n",
       "    <tr>\n",
       "      <th>...</th>\n",
       "      <td>...</td>\n",
       "      <td>...</td>\n",
       "      <td>...</td>\n",
       "    </tr>\n",
       "    <tr>\n",
       "      <th>M</th>\n",
       "      <td>AP119993</td>\n",
       "      <td>30</td>\n",
       "      <td>10000</td>\n",
       "    </tr>\n",
       "    <tr>\n",
       "      <th>M</th>\n",
       "      <td>AP119994</td>\n",
       "      <td>22</td>\n",
       "      <td>20000</td>\n",
       "    </tr>\n",
       "    <tr>\n",
       "      <th>M</th>\n",
       "      <td>AP119995</td>\n",
       "      <td>27</td>\n",
       "      <td>15000</td>\n",
       "    </tr>\n",
       "    <tr>\n",
       "      <th>M</th>\n",
       "      <td>AP119997</td>\n",
       "      <td>25</td>\n",
       "      <td>35000</td>\n",
       "    </tr>\n",
       "    <tr>\n",
       "      <th>M</th>\n",
       "      <td>AP119999</td>\n",
       "      <td>27</td>\n",
       "      <td>30000</td>\n",
       "    </tr>\n",
       "  </tbody>\n",
       "</table>\n",
       "<p>5047 rows × 3 columns</p>\n",
       "</div>"
      ],
      "text/plain": [
       "       REGISTER_ID  AGE  INCOME\n",
       "GENDER                         \n",
       "M         AP110002   35   40000\n",
       "M         AP110008   42   20000\n",
       "M         AP110009   39   10000\n",
       "M         AP110010   41   25000\n",
       "M         AP110014   44   25000\n",
       "...            ...  ...     ...\n",
       "M         AP119993   30   10000\n",
       "M         AP119994   22   20000\n",
       "M         AP119995   27   15000\n",
       "M         AP119997   25   35000\n",
       "M         AP119999   27   30000\n",
       "\n",
       "[5047 rows x 3 columns]"
      ]
     },
     "execution_count": 183,
     "metadata": {},
     "output_type": "execute_result"
    }
   ],
   "source": [
    "df1.loc['M'] # Male rows in df1"
   ]
  },
  {
   "cell_type": "markdown",
   "id": "3575f407",
   "metadata": {},
   "source": [
    "### 3. Update"
   ]
  },
  {
   "cell_type": "markdown",
   "id": "e7385f82",
   "metadata": {},
   "source": [
    "#### 3.1 Dropping Rows"
   ]
  },
  {
   "cell_type": "code",
   "execution_count": 186,
   "id": "e91db75e",
   "metadata": {},
   "outputs": [
    {
     "data": {
      "text/plain": [
       "REGISTER_ID    0\n",
       "GENDER         0\n",
       "AGE            0\n",
       "INCOME         0\n",
       "dtype: int64"
      ]
     },
     "execution_count": 186,
     "metadata": {},
     "output_type": "execute_result"
    }
   ],
   "source": [
    "df.isnull().sum() # Sum of Null values in DataFrame"
   ]
  },
  {
   "cell_type": "markdown",
   "id": "08fa11ec",
   "metadata": {},
   "source": [
    "### 3.2 Dropping Columns"
   ]
  },
  {
   "cell_type": "code",
   "execution_count": 191,
   "id": "f1d45077",
   "metadata": {},
   "outputs": [],
   "source": [
    "df.drop('REGISTER_ID', axis = 1, inplace = True) # Dropping 'REGISTER_ID' col"
   ]
  },
  {
   "cell_type": "code",
   "execution_count": 192,
   "id": "23ea122a",
   "metadata": {},
   "outputs": [
    {
     "data": {
      "text/html": [
       "<div>\n",
       "<style scoped>\n",
       "    .dataframe tbody tr th:only-of-type {\n",
       "        vertical-align: middle;\n",
       "    }\n",
       "\n",
       "    .dataframe tbody tr th {\n",
       "        vertical-align: top;\n",
       "    }\n",
       "\n",
       "    .dataframe thead th {\n",
       "        text-align: right;\n",
       "    }\n",
       "</style>\n",
       "<table border=\"1\" class=\"dataframe\">\n",
       "  <thead>\n",
       "    <tr style=\"text-align: right;\">\n",
       "      <th></th>\n",
       "      <th>GENDER</th>\n",
       "      <th>AGE</th>\n",
       "      <th>INCOME</th>\n",
       "    </tr>\n",
       "  </thead>\n",
       "  <tbody>\n",
       "    <tr>\n",
       "      <th>0</th>\n",
       "      <td>F</td>\n",
       "      <td>33</td>\n",
       "      <td>15000</td>\n",
       "    </tr>\n",
       "    <tr>\n",
       "      <th>1</th>\n",
       "      <td>F</td>\n",
       "      <td>38</td>\n",
       "      <td>50000</td>\n",
       "    </tr>\n",
       "    <tr>\n",
       "      <th>2</th>\n",
       "      <td>M</td>\n",
       "      <td>35</td>\n",
       "      <td>40000</td>\n",
       "    </tr>\n",
       "    <tr>\n",
       "      <th>3</th>\n",
       "      <td>F</td>\n",
       "      <td>38</td>\n",
       "      <td>20000</td>\n",
       "    </tr>\n",
       "    <tr>\n",
       "      <th>4</th>\n",
       "      <td>F</td>\n",
       "      <td>23</td>\n",
       "      <td>40000</td>\n",
       "    </tr>\n",
       "  </tbody>\n",
       "</table>\n",
       "</div>"
      ],
      "text/plain": [
       "  GENDER  AGE  INCOME\n",
       "0      F   33   15000\n",
       "1      F   38   50000\n",
       "2      M   35   40000\n",
       "3      F   38   20000\n",
       "4      F   23   40000"
      ]
     },
     "execution_count": 192,
     "metadata": {},
     "output_type": "execute_result"
    }
   ],
   "source": [
    "df.head()"
   ]
  },
  {
   "cell_type": "markdown",
   "id": "0f2e7927",
   "metadata": {},
   "source": [
    "### 3.3 Creating Columns"
   ]
  },
  {
   "cell_type": "code",
   "execution_count": 200,
   "id": "a51362fe",
   "metadata": {},
   "outputs": [],
   "source": [
    "df['Churn'] =  # Creating col named 'Churn'"
   ]
  },
  {
   "cell_type": "code",
   "execution_count": 201,
   "id": "ac476248",
   "metadata": {},
   "outputs": [
    {
     "data": {
      "text/html": [
       "<div>\n",
       "<style scoped>\n",
       "    .dataframe tbody tr th:only-of-type {\n",
       "        vertical-align: middle;\n",
       "    }\n",
       "\n",
       "    .dataframe tbody tr th {\n",
       "        vertical-align: top;\n",
       "    }\n",
       "\n",
       "    .dataframe thead th {\n",
       "        text-align: right;\n",
       "    }\n",
       "</style>\n",
       "<table border=\"1\" class=\"dataframe\">\n",
       "  <thead>\n",
       "    <tr style=\"text-align: right;\">\n",
       "      <th></th>\n",
       "      <th>GENDER</th>\n",
       "      <th>AGE</th>\n",
       "      <th>INCOME</th>\n",
       "      <th>Churn</th>\n",
       "    </tr>\n",
       "  </thead>\n",
       "  <tbody>\n",
       "    <tr>\n",
       "      <th>0</th>\n",
       "      <td>F</td>\n",
       "      <td>33</td>\n",
       "      <td>15000</td>\n",
       "      <td>0</td>\n",
       "    </tr>\n",
       "    <tr>\n",
       "      <th>1</th>\n",
       "      <td>F</td>\n",
       "      <td>38</td>\n",
       "      <td>50000</td>\n",
       "      <td>0</td>\n",
       "    </tr>\n",
       "    <tr>\n",
       "      <th>2</th>\n",
       "      <td>M</td>\n",
       "      <td>35</td>\n",
       "      <td>40000</td>\n",
       "      <td>0</td>\n",
       "    </tr>\n",
       "    <tr>\n",
       "      <th>3</th>\n",
       "      <td>F</td>\n",
       "      <td>38</td>\n",
       "      <td>20000</td>\n",
       "      <td>0</td>\n",
       "    </tr>\n",
       "    <tr>\n",
       "      <th>4</th>\n",
       "      <td>F</td>\n",
       "      <td>23</td>\n",
       "      <td>40000</td>\n",
       "      <td>0</td>\n",
       "    </tr>\n",
       "  </tbody>\n",
       "</table>\n",
       "</div>"
      ],
      "text/plain": [
       "  GENDER  AGE  INCOME  Churn\n",
       "0      F   33   15000      0\n",
       "1      F   38   50000      0\n",
       "2      M   35   40000      0\n",
       "3      F   38   20000      0\n",
       "4      F   23   40000      0"
      ]
     },
     "execution_count": 201,
     "metadata": {},
     "output_type": "execute_result"
    }
   ],
   "source": [
    "df.head() #top 5"
   ]
  },
  {
   "cell_type": "markdown",
   "id": "f1b34042",
   "metadata": {},
   "source": [
    "#### 3.3 Update Columns"
   ]
  },
  {
   "cell_type": "code",
   "execution_count": 232,
   "id": "9b0d9653",
   "metadata": {},
   "outputs": [
    {
     "data": {
      "text/html": [
       "<div>\n",
       "<style scoped>\n",
       "    .dataframe tbody tr th:only-of-type {\n",
       "        vertical-align: middle;\n",
       "    }\n",
       "\n",
       "    .dataframe tbody tr th {\n",
       "        vertical-align: top;\n",
       "    }\n",
       "\n",
       "    .dataframe thead th {\n",
       "        text-align: right;\n",
       "    }\n",
       "</style>\n",
       "<table border=\"1\" class=\"dataframe\">\n",
       "  <thead>\n",
       "    <tr style=\"text-align: right;\">\n",
       "      <th></th>\n",
       "      <th>GENDER</th>\n",
       "      <th>AGE</th>\n",
       "      <th>INCOME</th>\n",
       "      <th>Churn</th>\n",
       "    </tr>\n",
       "  </thead>\n",
       "  <tbody>\n",
       "    <tr>\n",
       "      <th>0</th>\n",
       "      <td>F</td>\n",
       "      <td>33</td>\n",
       "      <td>15000</td>\n",
       "      <td>True</td>\n",
       "    </tr>\n",
       "    <tr>\n",
       "      <th>1</th>\n",
       "      <td>F</td>\n",
       "      <td>38</td>\n",
       "      <td>50000</td>\n",
       "      <td>True</td>\n",
       "    </tr>\n",
       "    <tr>\n",
       "      <th>2</th>\n",
       "      <td>M</td>\n",
       "      <td>35</td>\n",
       "      <td>40000</td>\n",
       "      <td>True</td>\n",
       "    </tr>\n",
       "    <tr>\n",
       "      <th>3</th>\n",
       "      <td>F</td>\n",
       "      <td>38</td>\n",
       "      <td>20000</td>\n",
       "      <td>True</td>\n",
       "    </tr>\n",
       "    <tr>\n",
       "      <th>4</th>\n",
       "      <td>F</td>\n",
       "      <td>23</td>\n",
       "      <td>40000</td>\n",
       "      <td>True</td>\n",
       "    </tr>\n",
       "  </tbody>\n",
       "</table>\n",
       "</div>"
      ],
      "text/plain": [
       "  GENDER  AGE  INCOME  Churn\n",
       "0      F   33   15000   True\n",
       "1      F   38   50000   True\n",
       "2      M   35   40000   True\n",
       "3      F   38   20000   True\n",
       "4      F   23   40000   True"
      ]
     },
     "execution_count": 232,
     "metadata": {},
     "output_type": "execute_result"
    }
   ],
   "source": [
    "df['Churn'] = True # Updating row values with 'True'\n",
    "df.head()"
   ]
  },
  {
   "cell_type": "markdown",
   "id": "206855da",
   "metadata": {},
   "source": [
    "#### 3.4 Updating a Single Column Value"
   ]
  },
  {
   "cell_type": "code",
   "execution_count": 213,
   "id": "aaedc780",
   "metadata": {},
   "outputs": [
    {
     "data": {
      "text/plain": [
       "True"
      ]
     },
     "execution_count": 213,
     "metadata": {},
     "output_type": "execute_result"
    }
   ],
   "source": [
    "df.iloc[0, -1] # 0th row -1 col value whih is (CHurn: True)"
   ]
  },
  {
   "cell_type": "code",
   "execution_count": 233,
   "id": "8b6bb9c4",
   "metadata": {},
   "outputs": [],
   "source": [
    "df.iloc[0, -1] = False # updating row value of df.iloc[0, -1] to False"
   ]
  },
  {
   "cell_type": "code",
   "execution_count": 226,
   "id": "4609a0e3",
   "metadata": {},
   "outputs": [
    {
     "data": {
      "text/html": [
       "<div>\n",
       "<style scoped>\n",
       "    .dataframe tbody tr th:only-of-type {\n",
       "        vertical-align: middle;\n",
       "    }\n",
       "\n",
       "    .dataframe tbody tr th {\n",
       "        vertical-align: top;\n",
       "    }\n",
       "\n",
       "    .dataframe thead th {\n",
       "        text-align: right;\n",
       "    }\n",
       "</style>\n",
       "<table border=\"1\" class=\"dataframe\">\n",
       "  <thead>\n",
       "    <tr style=\"text-align: right;\">\n",
       "      <th></th>\n",
       "      <th>GENDER</th>\n",
       "      <th>AGE</th>\n",
       "      <th>INCOME</th>\n",
       "      <th>Churn</th>\n",
       "    </tr>\n",
       "  </thead>\n",
       "  <tbody>\n",
       "    <tr>\n",
       "      <th>0</th>\n",
       "      <td>F</td>\n",
       "      <td>33</td>\n",
       "      <td>15000</td>\n",
       "      <td>False</td>\n",
       "    </tr>\n",
       "    <tr>\n",
       "      <th>1</th>\n",
       "      <td>F</td>\n",
       "      <td>38</td>\n",
       "      <td>50000</td>\n",
       "      <td>True</td>\n",
       "    </tr>\n",
       "    <tr>\n",
       "      <th>2</th>\n",
       "      <td>M</td>\n",
       "      <td>35</td>\n",
       "      <td>40000</td>\n",
       "      <td>True</td>\n",
       "    </tr>\n",
       "    <tr>\n",
       "      <th>3</th>\n",
       "      <td>F</td>\n",
       "      <td>38</td>\n",
       "      <td>20000</td>\n",
       "      <td>True</td>\n",
       "    </tr>\n",
       "    <tr>\n",
       "      <th>4</th>\n",
       "      <td>F</td>\n",
       "      <td>23</td>\n",
       "      <td>40000</td>\n",
       "      <td>True</td>\n",
       "    </tr>\n",
       "  </tbody>\n",
       "</table>\n",
       "</div>"
      ],
      "text/plain": [
       "  GENDER  AGE  INCOME  Churn\n",
       "0      F   33   15000  False\n",
       "1      F   38   50000   True\n",
       "2      M   35   40000   True\n",
       "3      F   38   20000   True\n",
       "4      F   23   40000   True"
      ]
     },
     "execution_count": 226,
     "metadata": {},
     "output_type": "execute_result"
    }
   ],
   "source": [
    "df.head() # top5"
   ]
  },
  {
   "cell_type": "markdown",
   "id": "8c007a5e",
   "metadata": {},
   "source": [
    "#### 3.5 Condiiton based Updating using Apply"
   ]
  },
  {
   "cell_type": "code",
   "execution_count": 234,
   "id": "9c026e0a",
   "metadata": {},
   "outputs": [],
   "source": [
    "df['Churn'] = df['Churn'].apply(lambda x: 0 if x == True else 1) # applying using lambda fn True = 0, False = 1"
   ]
  },
  {
   "cell_type": "code",
   "execution_count": 236,
   "id": "779c038e",
   "metadata": {},
   "outputs": [
    {
     "data": {
      "text/html": [
       "<div>\n",
       "<style scoped>\n",
       "    .dataframe tbody tr th:only-of-type {\n",
       "        vertical-align: middle;\n",
       "    }\n",
       "\n",
       "    .dataframe tbody tr th {\n",
       "        vertical-align: top;\n",
       "    }\n",
       "\n",
       "    .dataframe thead th {\n",
       "        text-align: right;\n",
       "    }\n",
       "</style>\n",
       "<table border=\"1\" class=\"dataframe\">\n",
       "  <thead>\n",
       "    <tr style=\"text-align: right;\">\n",
       "      <th></th>\n",
       "      <th>GENDER</th>\n",
       "      <th>AGE</th>\n",
       "      <th>INCOME</th>\n",
       "      <th>Churn</th>\n",
       "    </tr>\n",
       "  </thead>\n",
       "  <tbody>\n",
       "    <tr>\n",
       "      <th>0</th>\n",
       "      <td>F</td>\n",
       "      <td>33</td>\n",
       "      <td>15000</td>\n",
       "      <td>1</td>\n",
       "    </tr>\n",
       "    <tr>\n",
       "      <th>1</th>\n",
       "      <td>F</td>\n",
       "      <td>38</td>\n",
       "      <td>50000</td>\n",
       "      <td>0</td>\n",
       "    </tr>\n",
       "    <tr>\n",
       "      <th>2</th>\n",
       "      <td>M</td>\n",
       "      <td>35</td>\n",
       "      <td>40000</td>\n",
       "      <td>0</td>\n",
       "    </tr>\n",
       "    <tr>\n",
       "      <th>3</th>\n",
       "      <td>F</td>\n",
       "      <td>38</td>\n",
       "      <td>20000</td>\n",
       "      <td>0</td>\n",
       "    </tr>\n",
       "    <tr>\n",
       "      <th>4</th>\n",
       "      <td>F</td>\n",
       "      <td>23</td>\n",
       "      <td>40000</td>\n",
       "      <td>0</td>\n",
       "    </tr>\n",
       "  </tbody>\n",
       "</table>\n",
       "</div>"
      ],
      "text/plain": [
       "  GENDER  AGE  INCOME  Churn\n",
       "0      F   33   15000      1\n",
       "1      F   38   50000      0\n",
       "2      M   35   40000      0\n",
       "3      F   38   20000      0\n",
       "4      F   23   40000      0"
      ]
     },
     "execution_count": 236,
     "metadata": {},
     "output_type": "execute_result"
    }
   ],
   "source": [
    "df.head() # top 5"
   ]
  },
  {
   "cell_type": "code",
   "execution_count": 237,
   "id": "afa23847",
   "metadata": {},
   "outputs": [],
   "source": [
    "df['Churn'] = df['Churn'].apply(lambda x: 0 if x == 1 else 0) # Reapplying 1 to 0 using lambda fn"
   ]
  },
  {
   "cell_type": "code",
   "execution_count": 238,
   "id": "dd8fe76e",
   "metadata": {},
   "outputs": [
    {
     "data": {
      "text/html": [
       "<div>\n",
       "<style scoped>\n",
       "    .dataframe tbody tr th:only-of-type {\n",
       "        vertical-align: middle;\n",
       "    }\n",
       "\n",
       "    .dataframe tbody tr th {\n",
       "        vertical-align: top;\n",
       "    }\n",
       "\n",
       "    .dataframe thead th {\n",
       "        text-align: right;\n",
       "    }\n",
       "</style>\n",
       "<table border=\"1\" class=\"dataframe\">\n",
       "  <thead>\n",
       "    <tr style=\"text-align: right;\">\n",
       "      <th></th>\n",
       "      <th>GENDER</th>\n",
       "      <th>AGE</th>\n",
       "      <th>INCOME</th>\n",
       "      <th>Churn</th>\n",
       "    </tr>\n",
       "  </thead>\n",
       "  <tbody>\n",
       "    <tr>\n",
       "      <th>0</th>\n",
       "      <td>F</td>\n",
       "      <td>33</td>\n",
       "      <td>15000</td>\n",
       "      <td>0</td>\n",
       "    </tr>\n",
       "    <tr>\n",
       "      <th>1</th>\n",
       "      <td>F</td>\n",
       "      <td>38</td>\n",
       "      <td>50000</td>\n",
       "      <td>0</td>\n",
       "    </tr>\n",
       "    <tr>\n",
       "      <th>2</th>\n",
       "      <td>M</td>\n",
       "      <td>35</td>\n",
       "      <td>40000</td>\n",
       "      <td>0</td>\n",
       "    </tr>\n",
       "    <tr>\n",
       "      <th>3</th>\n",
       "      <td>F</td>\n",
       "      <td>38</td>\n",
       "      <td>20000</td>\n",
       "      <td>0</td>\n",
       "    </tr>\n",
       "    <tr>\n",
       "      <th>4</th>\n",
       "      <td>F</td>\n",
       "      <td>23</td>\n",
       "      <td>40000</td>\n",
       "      <td>0</td>\n",
       "    </tr>\n",
       "  </tbody>\n",
       "</table>\n",
       "</div>"
      ],
      "text/plain": [
       "  GENDER  AGE  INCOME  Churn\n",
       "0      F   33   15000      0\n",
       "1      F   38   50000      0\n",
       "2      M   35   40000      0\n",
       "3      F   38   20000      0\n",
       "4      F   23   40000      0"
      ]
     },
     "execution_count": 238,
     "metadata": {},
     "output_type": "execute_result"
    }
   ],
   "source": [
    "df.head()"
   ]
  },
  {
   "cell_type": "markdown",
   "id": "c5285bf7",
   "metadata": {},
   "source": [
    "### 4. Delete / Ouput"
   ]
  },
  {
   "cell_type": "code",
   "execution_count": 258,
   "id": "942ee087",
   "metadata": {},
   "outputs": [],
   "source": [
    "df.to_csv('pandas.csv') # import df to csv"
   ]
  },
  {
   "cell_type": "code",
   "execution_count": null,
   "id": "5f5af3e8",
   "metadata": {},
   "outputs": [],
   "source": [
    "df.to_json() #import df to json"
   ]
  },
  {
   "cell_type": "code",
   "execution_count": null,
   "id": "c392c7d5",
   "metadata": {},
   "outputs": [],
   "source": [
    "df.to_html() #import df to html"
   ]
  },
  {
   "cell_type": "code",
   "execution_count": null,
   "id": "e80cd31b",
   "metadata": {},
   "outputs": [],
   "source": [
    "del df #delete df "
   ]
  },
  {
   "cell_type": "code",
   "execution_count": null,
   "id": "5a6d778d",
   "metadata": {},
   "outputs": [],
   "source": [
    "!"
   ]
  },
  {
   "cell_type": "code",
   "execution_count": null,
   "id": "4486c036",
   "metadata": {},
   "outputs": [],
   "source": []
  }
 ],
 "metadata": {
  "kernelspec": {
   "display_name": "venv",
   "language": "python",
   "name": "venv"
  },
  "language_info": {
   "codemirror_mode": {
    "name": "ipython",
    "version": 3
   },
   "file_extension": ".py",
   "mimetype": "text/x-python",
   "name": "python",
   "nbconvert_exporter": "python",
   "pygments_lexer": "ipython3",
   "version": "3.8.0"
  }
 },
 "nbformat": 4,
 "nbformat_minor": 5
}
