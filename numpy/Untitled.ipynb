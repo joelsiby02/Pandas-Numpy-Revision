{
 "cells": [
  {
   "cell_type": "code",
   "execution_count": 18,
   "id": "db8428a5",
   "metadata": {},
   "outputs": [],
   "source": [
    "import numpy as np #importing packages"
   ]
  },
  {
   "cell_type": "markdown",
   "id": "22c725ac",
   "metadata": {},
   "source": [
    "### 1. Create"
   ]
  },
  {
   "cell_type": "code",
   "execution_count": 185,
   "id": "0f05eba6",
   "metadata": {},
   "outputs": [],
   "source": [
    "data = np.random.rand(2, 3, 4) # 2 arrays, 3 rows, 4 col's\n",
    "zeros = np.zeros((2, 3, 4)) # 2 arrays, 3 rows, 4 col's\n",
    "full = np.full((2, 3, 4), 5) # 2 arrays, 3 rows , 4 col's, (only 5's)\n",
    "ones = np.ones((2, 3 , 4))  #2 arrays, 3 rows, 4 col's ,(default 1)"
   ]
  },
  {
   "cell_type": "code",
   "execution_count": 41,
   "id": "54c4fb46",
   "metadata": {},
   "outputs": [
    {
     "data": {
      "text/plain": [
       "array([1, 2, 3])"
      ]
     },
     "execution_count": 41,
     "metadata": {},
     "output_type": "execute_result"
    }
   ],
   "source": [
    "arr = np.array([1,2,3]) # 1 D array\n",
    "arr "
   ]
  },
  {
   "cell_type": "code",
   "execution_count": 49,
   "id": "f44fc6a7",
   "metadata": {},
   "outputs": [
    {
     "data": {
      "text/plain": [
       "array([[ 1,  4, 20],\n",
       "       [ 3, 10, 50]])"
      ]
     },
     "execution_count": 49,
     "metadata": {},
     "output_type": "execute_result"
    }
   ],
   "source": [
    "arr2 = np.array([[1, 4, 20], [3, 10, 50]]) # 2 D array\n",
    "arr2"
   ]
  },
  {
   "cell_type": "markdown",
   "id": "4219b16d",
   "metadata": {},
   "source": [
    "### 2. Read"
   ]
  },
  {
   "cell_type": "code",
   "execution_count": 62,
   "id": "156069f1",
   "metadata": {},
   "outputs": [],
   "source": [
    "# data = np.random.rand(2, 3, 4) # 2 arrays, 3 rows, 4 col's\n",
    "shape = data.shape # shape\n",
    "size = data.size # szie\n",
    "types = data.dtype # data Type"
   ]
  },
  {
   "cell_type": "code",
   "execution_count": 63,
   "id": "f8697ac2",
   "metadata": {},
   "outputs": [
    {
     "data": {
      "text/plain": [
       "(2, 3, 4)"
      ]
     },
     "execution_count": 63,
     "metadata": {},
     "output_type": "execute_result"
    }
   ],
   "source": [
    "shape # num of arrays, rows, col"
   ]
  },
  {
   "cell_type": "code",
   "execution_count": 64,
   "id": "a5b8598c",
   "metadata": {},
   "outputs": [
    {
     "data": {
      "text/plain": [
       "24"
      ]
     },
     "execution_count": 64,
     "metadata": {},
     "output_type": "execute_result"
    }
   ],
   "source": [
    "size # Numebr of elements in the array"
   ]
  },
  {
   "cell_type": "code",
   "execution_count": 67,
   "id": "148ac7c1",
   "metadata": {},
   "outputs": [
    {
     "data": {
      "text/plain": [
       "dtype('float64')"
      ]
     },
     "execution_count": 67,
     "metadata": {},
     "output_type": "execute_result"
    }
   ],
   "source": [
    "types # data Type of the array"
   ]
  },
  {
   "cell_type": "code",
   "execution_count": 69,
   "id": "31bb678d",
   "metadata": {},
   "outputs": [
    {
     "data": {
      "text/plain": [
       "array([[[0.25920896, 0.59521875, 0.97325988, 0.7174293 ],\n",
       "        [0.10885041, 0.60958975, 0.72783854, 0.20996552],\n",
       "        [0.67658056, 0.16648566, 0.0735755 , 0.81518414]],\n",
       "\n",
       "       [[0.37225654, 0.82163239, 0.23573985, 0.81888704],\n",
       "        [0.79554143, 0.16169158, 0.71505377, 0.07305332],\n",
       "        [0.61323216, 0.14854311, 0.42661133, 0.37037945]]])"
      ]
     },
     "execution_count": 69,
     "metadata": {},
     "output_type": "execute_result"
    }
   ],
   "source": [
    "data # random array's stored in 'data' variable"
   ]
  },
  {
   "cell_type": "code",
   "execution_count": 83,
   "id": "b5fade8c",
   "metadata": {},
   "outputs": [
    {
     "data": {
      "text/plain": [
       "(2, 3, 4)"
      ]
     },
     "execution_count": 83,
     "metadata": {},
     "output_type": "execute_result"
    }
   ],
   "source": [
    "data.shape"
   ]
  },
  {
   "cell_type": "code",
   "execution_count": 97,
   "id": "86b74c50",
   "metadata": {},
   "outputs": [
    {
     "data": {
      "text/plain": [
       "array([[0.25920896, 0.59521875, 0.97325988, 0.7174293 ],\n",
       "       [0.10885041, 0.60958975, 0.72783854, 0.20996552]])"
      ]
     },
     "execution_count": 97,
     "metadata": {},
     "output_type": "execute_result"
    }
   ],
   "source": [
    "# Slicing\n",
    "arr = data[0] # 0th array list\n",
    "slicer = data[0][0:2] # 0th array print first 2 rows only\n",
    "reverse = data[-1] # Bottom array\n",
    "single_element = data[0][0][2] # Picking out each value from the array\n",
    "slicer"
   ]
  },
  {
   "cell_type": "markdown",
   "id": "a45dd1d7",
   "metadata": {},
   "source": [
    "### 3. Update"
   ]
  },
  {
   "cell_type": "code",
   "execution_count": 105,
   "id": "f602d9bb",
   "metadata": {},
   "outputs": [],
   "source": [
    "list1 = np.random.rand(2, 3 ,5) # Random array\n",
    "list2 = np.random.rand(2, 3, 5) # Random array"
   ]
  },
  {
   "cell_type": "code",
   "execution_count": 115,
   "id": "56bdef8e",
   "metadata": {},
   "outputs": [],
   "source": [
    "add = np.add(list1, list2) # add list1 & list 2\n",
    "sub = np.subtract(list1, list2) # subtract\n",
    "mul = np.multiply(list1, list2) # multiply\n",
    "div = np.divide(list1, list2) # divide"
   ]
  },
  {
   "cell_type": "code",
   "execution_count": 130,
   "id": "c8195a1f",
   "metadata": {},
   "outputs": [],
   "source": [
    "# SAPLEMM\n",
    "sqrt = np.sqrt(23) # squaRe root\n",
    "ab = np.abs(-10) # absolute value\n",
    "power = np.power(2, 5) # power of 2 raise to 5\n",
    "log = np.log(1.44) # log of 1.44\n",
    "exp = np.exp([2,3]) # Exponential of 2,3\n",
    "mins = np.min(list1) # min value of list1\n",
    "maxs = np.max(list2) # max value of list2"
   ]
  },
  {
   "cell_type": "code",
   "execution_count": 131,
   "id": "c9da96e9",
   "metadata": {},
   "outputs": [
    {
     "data": {
      "text/plain": [
       "array([ 7.3890561 , 20.08553692])"
      ]
     },
     "execution_count": 131,
     "metadata": {},
     "output_type": "execute_result"
    }
   ],
   "source": [
    "exp # exponential value"
   ]
  },
  {
   "cell_type": "code",
   "execution_count": 133,
   "id": "ab892a41",
   "metadata": {},
   "outputs": [
    {
     "data": {
      "text/plain": [
       "array([[[0.25920896, 0.59521875, 0.97325988, 0.7174293 ],\n",
       "        [0.10885041, 0.60958975, 0.72783854, 0.20996552],\n",
       "        [0.67658056, 0.16648566, 0.0735755 , 0.81518414]],\n",
       "\n",
       "       [[0.37225654, 0.82163239, 0.23573985, 0.81888704],\n",
       "        [0.79554143, 0.16169158, 0.71505377, 0.07305332],\n",
       "        [0.61323216, 0.14854311, 0.42661133, 0.37037945]]])"
      ]
     },
     "execution_count": 133,
     "metadata": {},
     "output_type": "execute_result"
    }
   ],
   "source": [
    "data"
   ]
  },
  {
   "cell_type": "code",
   "execution_count": 135,
   "id": "34780b56",
   "metadata": {},
   "outputs": [],
   "source": [
    "data[0][0][0] = 500 # updating value"
   ]
  },
  {
   "cell_type": "code",
   "execution_count": 137,
   "id": "9b13fc97",
   "metadata": {},
   "outputs": [
    {
     "data": {
      "text/plain": [
       "array([[[5.00000000e+02, 5.95218753e-01, 9.73259880e-01, 7.17429298e-01],\n",
       "        [1.08850411e-01, 6.09589751e-01, 7.27838538e-01, 2.09965515e-01],\n",
       "        [6.76580562e-01, 1.66485657e-01, 7.35754985e-02, 8.15184136e-01]],\n",
       "\n",
       "       [[3.72256538e-01, 8.21632393e-01, 2.35739847e-01, 8.18887045e-01],\n",
       "        [7.95541431e-01, 1.61691580e-01, 7.15053771e-01, 7.30533245e-02],\n",
       "        [6.13232162e-01, 1.48543106e-01, 4.26611329e-01, 3.70379454e-01]]])"
      ]
     },
     "execution_count": 137,
     "metadata": {},
     "output_type": "execute_result"
    }
   ],
   "source": [
    "data # updated 'data'"
   ]
  },
  {
   "cell_type": "code",
   "execution_count": 139,
   "id": "819164df",
   "metadata": {},
   "outputs": [
    {
     "data": {
      "text/plain": [
       "array([[[5.95218753e-01, 7.17429298e-01, 9.73259880e-01, 5.00000000e+02],\n",
       "        [1.08850411e-01, 2.09965515e-01, 6.09589751e-01, 7.27838538e-01],\n",
       "        [7.35754985e-02, 1.66485657e-01, 6.76580562e-01, 8.15184136e-01]],\n",
       "\n",
       "       [[2.35739847e-01, 3.72256538e-01, 8.18887045e-01, 8.21632393e-01],\n",
       "        [7.30533245e-02, 1.61691580e-01, 7.15053771e-01, 7.95541431e-01],\n",
       "        [1.48543106e-01, 3.70379454e-01, 4.26611329e-01, 6.13232162e-01]]])"
      ]
     },
     "execution_count": 139,
     "metadata": {},
     "output_type": "execute_result"
    }
   ],
   "source": [
    "np.sort(data) # Normal Sort or sort by row's by default axis = 0"
   ]
  },
  {
   "cell_type": "code",
   "execution_count": 140,
   "id": "4a53b748",
   "metadata": {},
   "outputs": [
    {
     "data": {
      "text/plain": [
       "array([[[7.35754985e-02, 1.66485657e-01, 6.09589751e-01, 7.27838538e-01],\n",
       "        [1.08850411e-01, 2.09965515e-01, 6.76580562e-01, 8.15184136e-01],\n",
       "        [5.95218753e-01, 7.17429298e-01, 9.73259880e-01, 5.00000000e+02]],\n",
       "\n",
       "       [[7.30533245e-02, 1.61691580e-01, 4.26611329e-01, 6.13232162e-01],\n",
       "        [1.48543106e-01, 3.70379454e-01, 7.15053771e-01, 7.95541431e-01],\n",
       "        [2.35739847e-01, 3.72256538e-01, 8.18887045e-01, 8.21632393e-01]]])"
      ]
     },
     "execution_count": 140,
     "metadata": {},
     "output_type": "execute_result"
    }
   ],
   "source": [
    "np.sort(data, axis = 1) # sorting by col's"
   ]
  },
  {
   "cell_type": "code",
   "execution_count": 142,
   "id": "af7aced1",
   "metadata": {},
   "outputs": [
    {
     "data": {
      "text/plain": [
       "(2, 3, 4)"
      ]
     },
     "execution_count": 142,
     "metadata": {},
     "output_type": "execute_result"
    }
   ],
   "source": [
    "data.shape # current data array size is (2, 3, 4)"
   ]
  },
  {
   "cell_type": "code",
   "execution_count": 147,
   "id": "d6878281",
   "metadata": {},
   "outputs": [
    {
     "data": {
      "text/plain": [
       "array([[[5.95218753e-01, 7.17429298e-01, 9.73259880e-01, 5.00000000e+02,\n",
       "         1.08850411e-01, 2.09965515e-01, 6.09589751e-01, 7.27838538e-01,\n",
       "         7.35754985e-02, 1.66485657e-01, 6.76580562e-01, 8.15184136e-01]],\n",
       "\n",
       "       [[2.35739847e-01, 3.72256538e-01, 8.18887045e-01, 8.21632393e-01,\n",
       "         7.30533245e-02, 1.61691580e-01, 7.15053771e-01, 7.95541431e-01,\n",
       "         1.48543106e-01, 3.70379454e-01, 4.26611329e-01, 6.13232162e-01]]])"
      ]
     },
     "execution_count": 147,
     "metadata": {},
     "output_type": "execute_result"
    }
   ],
   "source": [
    "# Reshaping an array usinf reshape fn\n",
    "reshaping = data.reshape(2, 1, -1) # use -1 to make it understand 'IDC' put some valeu\n",
    "reshaping"
   ]
  },
  {
   "cell_type": "code",
   "execution_count": 150,
   "id": "d8f044ce",
   "metadata": {},
   "outputs": [
    {
     "data": {
      "text/plain": [
       "(2, 1, 12)"
      ]
     },
     "execution_count": 150,
     "metadata": {},
     "output_type": "execute_result"
    }
   ],
   "source": [
    "reshaping.shape # after reshape its 2, 1, 12 "
   ]
  },
  {
   "cell_type": "code",
   "execution_count": 167,
   "id": "cd58821e",
   "metadata": {},
   "outputs": [
    {
     "data": {
      "text/plain": [
       "array([0., 0., 0., 0., 0., 0., 0., 0., 0., 0., 0., 0., 0., 0., 0., 2., 3.])"
      ]
     },
     "execution_count": 167,
     "metadata": {},
     "output_type": "execute_result"
    }
   ],
   "source": [
    "# Append\n",
    "zeros = np.zeros((1, 3, 5))\n",
    "zeros # an array of only 0's\n",
    "zeros = np.append(zeros, [2, 3])\n",
    "zeros # appending at bottom 2, 3 to array of 0's"
   ]
  },
  {
   "cell_type": "code",
   "execution_count": 168,
   "id": "8993e74e",
   "metadata": {},
   "outputs": [],
   "source": [
    "zeros = np.insert(zeros, 0, 10) # inserting an element into a specified index of an array"
   ]
  },
  {
   "cell_type": "code",
   "execution_count": 169,
   "id": "decbd50d",
   "metadata": {},
   "outputs": [
    {
     "data": {
      "text/plain": [
       "array([10.,  0.,  0.,  0.,  0.,  0.,  0.,  0.,  0.,  0.,  0.,  0.,  0.,\n",
       "        0.,  0.,  0.,  2.,  3.])"
      ]
     },
     "execution_count": 169,
     "metadata": {},
     "output_type": "execute_result"
    }
   ],
   "source": [
    "zeros"
   ]
  },
  {
   "cell_type": "markdown",
   "id": "72fbf964",
   "metadata": {},
   "source": [
    "### 4. Delete"
   ]
  },
  {
   "cell_type": "code",
   "execution_count": 186,
   "id": "e710d439",
   "metadata": {},
   "outputs": [
    {
     "data": {
      "text/plain": [
       "array([[[0.92711105, 0.26636638, 0.93210321, 0.45399704],\n",
       "        [0.64403413, 0.60155134, 0.66736699, 0.18814387],\n",
       "        [0.93248771, 0.96442675, 0.78126528, 0.25894953]],\n",
       "\n",
       "       [[0.9566165 , 0.93905741, 0.83952148, 0.40795434],\n",
       "        [0.04432057, 0.20669722, 0.17489184, 0.44802468],\n",
       "        [0.96698866, 0.29115561, 0.72573794, 0.25108448]]])"
      ]
     },
     "execution_count": 186,
     "metadata": {},
     "output_type": "execute_result"
    }
   ],
   "source": [
    "data"
   ]
  },
  {
   "cell_type": "code",
   "execution_count": 187,
   "id": "c9e2beaf",
   "metadata": {},
   "outputs": [
    {
     "data": {
      "text/plain": [
       "array([[[0.64403413, 0.60155134, 0.66736699, 0.18814387],\n",
       "        [0.93248771, 0.96442675, 0.78126528, 0.25894953]],\n",
       "\n",
       "       [[0.04432057, 0.20669722, 0.17489184, 0.44802468],\n",
       "        [0.96698866, 0.29115561, 0.72573794, 0.25108448]]])"
      ]
     },
     "execution_count": 187,
     "metadata": {},
     "output_type": "execute_result"
    }
   ],
   "source": [
    "np.delete(data, 0, axis = 1) # delete first row from 1st & 2nd array"
   ]
  },
  {
   "cell_type": "markdown",
   "id": "f7e59ac6",
   "metadata": {},
   "source": [
    "## Saving & Loading the array"
   ]
  },
  {
   "cell_type": "code",
   "execution_count": 189,
   "id": "3de38b1a",
   "metadata": {},
   "outputs": [],
   "source": [
    "np.save('new_array', data) # save the array in .npy file"
   ]
  },
  {
   "cell_type": "code",
   "execution_count": 192,
   "id": "4814e9bb",
   "metadata": {},
   "outputs": [],
   "source": [
    "data = np.load('new_array.npy') # loading the array"
   ]
  },
  {
   "cell_type": "code",
   "execution_count": 193,
   "id": "e4c96f1b",
   "metadata": {},
   "outputs": [
    {
     "data": {
      "text/plain": [
       "array([[[0.92711105, 0.26636638, 0.93210321, 0.45399704],\n",
       "        [0.64403413, 0.60155134, 0.66736699, 0.18814387],\n",
       "        [0.93248771, 0.96442675, 0.78126528, 0.25894953]],\n",
       "\n",
       "       [[0.9566165 , 0.93905741, 0.83952148, 0.40795434],\n",
       "        [0.04432057, 0.20669722, 0.17489184, 0.44802468],\n",
       "        [0.96698866, 0.29115561, 0.72573794, 0.25108448]]])"
      ]
     },
     "execution_count": 193,
     "metadata": {},
     "output_type": "execute_result"
    }
   ],
   "source": [
    "data"
   ]
  },
  {
   "cell_type": "code",
   "execution_count": 225,
   "id": "6d4f550b",
   "metadata": {},
   "outputs": [
    {
     "name": "stdout",
     "output_type": "stream",
     "text": [
      "On branch numpy\n",
      "Changes not staged for commit:\n",
      "  (use \"git add <file>...\" to update what will be committed)\n",
      "  (use \"git restore <file>...\" to discard changes in working directory)\n",
      "\tmodified:   Untitled.ipynb\n",
      "\n",
      "no changes added to commit (use \"git add\" and/or \"git commit -a\")\n"
     ]
    }
   ],
   "source": [
    "!git status"
   ]
  },
  {
   "cell_type": "code",
   "execution_count": 226,
   "id": "db06e9db",
   "metadata": {},
   "outputs": [
    {
     "name": "stdout",
     "output_type": "stream",
     "text": [
      "On branch numpy\n",
      "Changes not staged for commit:\n",
      "  (use \"git add <file>...\" to update what will be committed)\n",
      "  (use \"git restore <file>...\" to discard changes in working directory)\n",
      "\tmodified:   Untitled.ipynb\n",
      "\n",
      "no changes added to commit (use \"git add\" and/or \"git commit -a\")\n"
     ]
    }
   ],
   "source": [
    "!git commit -m \"Numpy revision added\""
   ]
  },
  {
   "cell_type": "code",
   "execution_count": 228,
   "id": "177fcd22",
   "metadata": {},
   "outputs": [
    {
     "name": "stderr",
     "output_type": "stream",
     "text": [
      "'git@github.com: Permission denied (publickey).\n",
      "fatal: Could not read from remote repository.\n",
      "\n",
      "Please make sure you have the correct access rights\n",
      "and the repository exists.\n"
     ]
    }
   ],
   "source": [
    "!git push -u origin numpy"
   ]
  },
  {
   "cell_type": "code",
   "execution_count": 229,
   "id": "17eb726b",
   "metadata": {},
   "outputs": [
    {
     "name": "stderr",
     "output_type": "stream",
     "text": [
      "error: remote origin already exists.\n"
     ]
    }
   ],
   "source": [
    "!git remote add origin 'https://github.com/joelsiby02/Pandas-Revision.git'"
   ]
  },
  {
   "cell_type": "code",
   "execution_count": null,
   "id": "8acd1725",
   "metadata": {},
   "outputs": [],
   "source": []
  }
 ],
 "metadata": {
  "kernelspec": {
   "display_name": "venv",
   "language": "python",
   "name": "venv"
  },
  "language_info": {
   "codemirror_mode": {
    "name": "ipython",
    "version": 3
   },
   "file_extension": ".py",
   "mimetype": "text/x-python",
   "name": "python",
   "nbconvert_exporter": "python",
   "pygments_lexer": "ipython3",
   "version": "3.8.0"
  }
 },
 "nbformat": 4,
 "nbformat_minor": 5
}
